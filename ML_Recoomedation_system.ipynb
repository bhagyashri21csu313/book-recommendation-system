{
 "cells": [
  {
   "cell_type": "code",
   "execution_count": 1,
   "id": "8f8a6c75-7d7b-4ed8-99b3-bc97ba57dde5",
   "metadata": {},
   "outputs": [
    {
     "name": "stdout",
     "output_type": "stream",
     "text": [
      "Recommendations for User 1 :\n",
      "Title\n",
      "No Festival            9.7\n",
      "Flavours of Romania    9.5\n",
      "Breaking Bad           9.5\n",
      "The Dream House        9.4\n",
      "Our Planet             9.3\n",
      "dtype: float64\n"
     ]
    }
   ],
   "source": [
    "import pandas as pd\n",
    "import numpy as np\n",
    "from sklearn.metrics.pairwise import cosine_similarity\n",
    "\n",
    "# Step 1: Load and preprocess the Netflix dataset\n",
    "netflix_data = pd.read_csv(r\"C:\\Users\\adaga\\Downloads\\Netflix Dataset Latest 2021.csv\")\n",
    "\n",
    "# Step 2: Create synthetic user IDs\n",
    "netflix_data['User'] = np.arange(1, len(netflix_data) + 1)\n",
    "\n",
    "# Step 3: Create user-item matrix\n",
    "user_item_matrix = netflix_data.pivot_table(index='User', columns='Title', values='IMDb Score')\n",
    "\n",
    "# Step 4: Calculate user similarity\n",
    "user_similarity = cosine_similarity(user_item_matrix.fillna(0))\n",
    "\n",
    "# Step 5: Recommendation generation\n",
    "def get_recommendations(user_id, num_recommendations=5):\n",
    "    # Find similar users\n",
    "    similar_users = user_similarity[user_id - 1].argsort()[::-1][1:]  # Exclude the user itself\n",
    "    \n",
    "    # Get items watched by similar users but not by the given user\n",
    "    items_watched = user_item_matrix.loc[user_id].dropna().index\n",
    "    similar_users_items = user_item_matrix.iloc[similar_users].drop(items_watched, errors='ignore')\n",
    "    \n",
    "    # Aggregate ratings from similar users\n",
    "    recommendations = similar_users_items.mean().sort_values(ascending=False).head(num_recommendations)\n",
    "    \n",
    "    return recommendations\n",
    "\n",
    "# Example usage\n",
    "user_id = 1  # Example user ID\n",
    "recommendations = get_recommendations(user_id)\n",
    "print(\"Recommendations for User\", user_id, \":\")\n",
    "print(recommendations)\n"
   ]
  },
  {
   "cell_type": "code",
   "execution_count": null,
   "id": "316ccab0-b7aa-4572-baa9-0f42efc00536",
   "metadata": {},
   "outputs": [],
   "source": []
  }
 ],
 "metadata": {
  "kernelspec": {
   "display_name": "Python 3 (ipykernel)",
   "language": "python",
   "name": "python3"
  },
  "language_info": {
   "codemirror_mode": {
    "name": "ipython",
    "version": 3
   },
   "file_extension": ".py",
   "mimetype": "text/x-python",
   "name": "python",
   "nbconvert_exporter": "python",
   "pygments_lexer": "ipython3",
   "version": "3.11.5"
  }
 },
 "nbformat": 4,
 "nbformat_minor": 5
}
